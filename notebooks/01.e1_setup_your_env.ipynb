{
 "cells": [
  {
   "cell_type": "code",
   "execution_count": 3,
   "id": "assured-consolidation",
   "metadata": {
    "scrolled": false
   },
   "outputs": [
    {
     "data": {
      "text/markdown": [
       "# Advanced Python Course \n",
       "## Mobi Heidelberg WS 2020/21\n",
       "### by Christian Fufezan \n",
       "\n",
       "christian@fufezan.net\n",
       "\n",
       "https://fufezan.net\n",
       "\n",
       "<img src=\"./imgs/cc.png\" alt=\"drawing\" width=\"200\" style=\"float: left;\"/>\n"
      ],
      "text/plain": [
       "<IPython.core.display.Markdown object>"
      ]
     },
     "metadata": {},
     "output_type": "display_data"
    }
   ],
   "source": [
    "import course;course.header()"
   ]
  },
  {
   "cell_type": "markdown",
   "id": "downtown-string",
   "metadata": {},
   "source": [
    "# Exercise 1\n",
    "\n",
    "Get your machine ready for the next courses!\n",
    "Following the steps below and at the end you should have the first jupyter notbooks on your machine!"
   ]
  },
  {
   "cell_type": "markdown",
   "id": "harmful-turkish",
   "metadata": {},
   "source": [
    "## clone repo!\n",
    "got to github \n",
    "https://github.com/fufezan-lab/advanced_python_2020-21_HD"
   ]
  },
  {
   "cell_type": "markdown",
   "id": "foster-borough",
   "metadata": {},
   "source": [
    "## setup an virtualenv (using the wrapper, if you can!)\n",
    "Optional"
   ]
  },
  {
   "cell_type": "markdown",
   "id": "comparable-malta",
   "metadata": {},
   "source": [
    "## install requirements!\n",
    "```bash\n",
    "pip install -r requirements\n",
    "```"
   ]
  },
  {
   "cell_type": "markdown",
   "id": "pressing-candy",
   "metadata": {},
   "source": [
    "## launch jupyter notebook!\n",
    "```bash\n",
    "jupyter notebook\n",
    "```"
   ]
  },
  {
   "cell_type": "markdown",
   "id": "liked-principal",
   "metadata": {},
   "source": [
    "## try to run the python script in shell mode\n",
    "```bash\n",
    "python helper/hello.py\n",
    "```"
   ]
  },
  {
   "cell_type": "code",
   "execution_count": null,
   "id": "scientific-realtor",
   "metadata": {},
   "outputs": [],
   "source": []
  }
 ],
 "metadata": {
  "kernelspec": {
   "display_name": "Python 3",
   "language": "python",
   "name": "python3"
  },
  "language_info": {
   "codemirror_mode": {
    "name": "ipython",
    "version": 3
   },
   "file_extension": ".py",
   "mimetype": "text/x-python",
   "name": "python",
   "nbconvert_exporter": "python",
   "pygments_lexer": "ipython3",
   "version": "3.8.5"
  }
 },
 "nbformat": 4,
 "nbformat_minor": 5
}
